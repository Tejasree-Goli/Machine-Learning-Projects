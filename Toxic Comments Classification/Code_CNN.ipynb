{
  "nbformat": 4,
  "nbformat_minor": 0,
  "metadata": {
    "colab": {
      "provenance": []
    },
    "kernelspec": {
      "name": "python3",
      "display_name": "Python 3"
    },
    "language_info": {
      "name": "python"
    }
  },
  "cells": [
    {
      "cell_type": "markdown",
      "source": [
        "### **TOXIC COMMENTS CLASSIFICATION** <br>\n",
        "##Neural Networks model\n",
        "\n",
        "Dataset Source: https://www.kaggle.com/competitions/jigsaw-toxic-comment-classification-challenge/data <br>\n",
        "Dataset uploaded on Google Drive: https://www.kaggle.com/competitions/jigsaw-toxic-comment-classification-challenge/data <br>"
      ],
      "metadata": {
        "id": "MtF6v1IDGKZP"
      }
    },
    {
      "cell_type": "code",
      "execution_count": 3,
      "metadata": {
        "colab": {
          "base_uri": "https://localhost:8080/"
        },
        "id": "GvrhKijaGC2O",
        "outputId": "9fc055f7-26af-4b71-ff9c-15fd3f7c6553"
      },
      "outputs": [
        {
          "output_type": "stream",
          "name": "stdout",
          "text": [
            "Mounted at /content/drive\n"
          ]
        }
      ],
      "source": [
        "# connecting google-drive to colab - to access the files in drive\n",
        "from google.colab import drive\n",
        "drive.mount('/content/drive')"
      ]
    },
    {
      "cell_type": "code",
      "source": [
        "# updating the working directory\n",
        "%cd /content/drive/Shareddrives/Project/Data"
      ],
      "metadata": {
        "id": "kxH4IJ5tGuiG",
        "colab": {
          "base_uri": "https://localhost:8080/"
        },
        "outputId": "fd63be42-7e38-40cc-aec9-aa6768a29f46"
      },
      "execution_count": 4,
      "outputs": [
        {
          "output_type": "stream",
          "name": "stdout",
          "text": [
            "/content/drive/Shareddrives/Project/Data\n"
          ]
        }
      ]
    },
    {
      "cell_type": "markdown",
      "source": [
        "Import all the libraries required for text pre-processing, visualizations, data analysis and developing machine learning models"
      ],
      "metadata": {
        "id": "Q5pu8vWTHFwa"
      }
    },
    {
      "cell_type": "code",
      "source": [
        "# import necessary libraries\n",
        "# python libraries - for data manipulation\n",
        "import pandas as pd\n",
        "import numpy as np\n",
        "import os\n",
        "import string\n",
        "from string import punctuation\n",
        "from collections import Counter\n",
        "# for visualizations\n",
        "import matplotlib.pyplot as plt\n",
        "import seaborn as sns\n",
        "# natural language processing libraries - for NLP tasks: text pre-processing\n",
        "import nltk\n",
        "from nltk import PorterStemmer\n",
        "nltk.download('stopwords')\n",
        "from nltk.corpus import stopwords"
      ],
      "metadata": {
        "colab": {
          "base_uri": "https://localhost:8080/"
        },
        "id": "JU0NlBoBG5Ej",
        "outputId": "81c35e87-4bd5-484c-a8a1-1e958f048410"
      },
      "execution_count": 5,
      "outputs": [
        {
          "output_type": "stream",
          "name": "stderr",
          "text": [
            "[nltk_data] Downloading package stopwords to /root/nltk_data...\n",
            "[nltk_data]   Unzipping corpora/stopwords.zip.\n"
          ]
        }
      ]
    },
    {
      "cell_type": "markdown",
      "source": [
        "***Pre-processing***"
      ],
      "metadata": {
        "id": "2_BaNMGAHbal"
      }
    },
    {
      "cell_type": "code",
      "source": [
        "# Read data from the train.csv file\n",
        "df_train = pd.read_csv('/content/drive/Shareddrives/Project/Data/train.csv')"
      ],
      "metadata": {
        "id": "BdIdkUtaHC_h"
      },
      "execution_count": 6,
      "outputs": []
    },
    {
      "cell_type": "code",
      "source": [
        "# check a sample of training data\n",
        "df_train.head()"
      ],
      "metadata": {
        "colab": {
          "base_uri": "https://localhost:8080/",
          "height": 206
        },
        "id": "oUStpvEiNNrz",
        "outputId": "291c76aa-0cbc-4aaa-c4b9-2f7676a5db46"
      },
      "execution_count": 7,
      "outputs": [
        {
          "output_type": "execute_result",
          "data": {
            "text/plain": [
              "                 id                                       comment_text  toxic  \\\n",
              "0  0000997932d777bf  Explanation\\nWhy the edits made under my usern...      0   \n",
              "1  000103f0d9cfb60f  D'aww! He matches this background colour I'm s...      0   \n",
              "2  000113f07ec002fd  Hey man, I'm really not trying to edit war. It...      0   \n",
              "3  0001b41b1c6bb37e  \"\\nMore\\nI can't make any real suggestions on ...      0   \n",
              "4  0001d958c54c6e35  You, sir, are my hero. Any chance you remember...      0   \n",
              "\n",
              "   severe_toxic  obscene  threat  insult  identity_hate  \n",
              "0             0        0       0       0              0  \n",
              "1             0        0       0       0              0  \n",
              "2             0        0       0       0              0  \n",
              "3             0        0       0       0              0  \n",
              "4             0        0       0       0              0  "
            ],
            "text/html": [
              "\n",
              "  <div id=\"df-e3119132-214e-49d5-9b94-51fe16e19edf\" class=\"colab-df-container\">\n",
              "    <div>\n",
              "<style scoped>\n",
              "    .dataframe tbody tr th:only-of-type {\n",
              "        vertical-align: middle;\n",
              "    }\n",
              "\n",
              "    .dataframe tbody tr th {\n",
              "        vertical-align: top;\n",
              "    }\n",
              "\n",
              "    .dataframe thead th {\n",
              "        text-align: right;\n",
              "    }\n",
              "</style>\n",
              "<table border=\"1\" class=\"dataframe\">\n",
              "  <thead>\n",
              "    <tr style=\"text-align: right;\">\n",
              "      <th></th>\n",
              "      <th>id</th>\n",
              "      <th>comment_text</th>\n",
              "      <th>toxic</th>\n",
              "      <th>severe_toxic</th>\n",
              "      <th>obscene</th>\n",
              "      <th>threat</th>\n",
              "      <th>insult</th>\n",
              "      <th>identity_hate</th>\n",
              "    </tr>\n",
              "  </thead>\n",
              "  <tbody>\n",
              "    <tr>\n",
              "      <th>0</th>\n",
              "      <td>0000997932d777bf</td>\n",
              "      <td>Explanation\\nWhy the edits made under my usern...</td>\n",
              "      <td>0</td>\n",
              "      <td>0</td>\n",
              "      <td>0</td>\n",
              "      <td>0</td>\n",
              "      <td>0</td>\n",
              "      <td>0</td>\n",
              "    </tr>\n",
              "    <tr>\n",
              "      <th>1</th>\n",
              "      <td>000103f0d9cfb60f</td>\n",
              "      <td>D'aww! He matches this background colour I'm s...</td>\n",
              "      <td>0</td>\n",
              "      <td>0</td>\n",
              "      <td>0</td>\n",
              "      <td>0</td>\n",
              "      <td>0</td>\n",
              "      <td>0</td>\n",
              "    </tr>\n",
              "    <tr>\n",
              "      <th>2</th>\n",
              "      <td>000113f07ec002fd</td>\n",
              "      <td>Hey man, I'm really not trying to edit war. It...</td>\n",
              "      <td>0</td>\n",
              "      <td>0</td>\n",
              "      <td>0</td>\n",
              "      <td>0</td>\n",
              "      <td>0</td>\n",
              "      <td>0</td>\n",
              "    </tr>\n",
              "    <tr>\n",
              "      <th>3</th>\n",
              "      <td>0001b41b1c6bb37e</td>\n",
              "      <td>\"\\nMore\\nI can't make any real suggestions on ...</td>\n",
              "      <td>0</td>\n",
              "      <td>0</td>\n",
              "      <td>0</td>\n",
              "      <td>0</td>\n",
              "      <td>0</td>\n",
              "      <td>0</td>\n",
              "    </tr>\n",
              "    <tr>\n",
              "      <th>4</th>\n",
              "      <td>0001d958c54c6e35</td>\n",
              "      <td>You, sir, are my hero. Any chance you remember...</td>\n",
              "      <td>0</td>\n",
              "      <td>0</td>\n",
              "      <td>0</td>\n",
              "      <td>0</td>\n",
              "      <td>0</td>\n",
              "      <td>0</td>\n",
              "    </tr>\n",
              "  </tbody>\n",
              "</table>\n",
              "</div>\n",
              "    <div class=\"colab-df-buttons\">\n",
              "\n",
              "  <div class=\"colab-df-container\">\n",
              "    <button class=\"colab-df-convert\" onclick=\"convertToInteractive('df-e3119132-214e-49d5-9b94-51fe16e19edf')\"\n",
              "            title=\"Convert this dataframe to an interactive table.\"\n",
              "            style=\"display:none;\">\n",
              "\n",
              "  <svg xmlns=\"http://www.w3.org/2000/svg\" height=\"24px\" viewBox=\"0 -960 960 960\">\n",
              "    <path d=\"M120-120v-720h720v720H120Zm60-500h600v-160H180v160Zm220 220h160v-160H400v160Zm0 220h160v-160H400v160ZM180-400h160v-160H180v160Zm440 0h160v-160H620v160ZM180-180h160v-160H180v160Zm440 0h160v-160H620v160Z\"/>\n",
              "  </svg>\n",
              "    </button>\n",
              "\n",
              "  <style>\n",
              "    .colab-df-container {\n",
              "      display:flex;\n",
              "      gap: 12px;\n",
              "    }\n",
              "\n",
              "    .colab-df-convert {\n",
              "      background-color: #E8F0FE;\n",
              "      border: none;\n",
              "      border-radius: 50%;\n",
              "      cursor: pointer;\n",
              "      display: none;\n",
              "      fill: #1967D2;\n",
              "      height: 32px;\n",
              "      padding: 0 0 0 0;\n",
              "      width: 32px;\n",
              "    }\n",
              "\n",
              "    .colab-df-convert:hover {\n",
              "      background-color: #E2EBFA;\n",
              "      box-shadow: 0px 1px 2px rgba(60, 64, 67, 0.3), 0px 1px 3px 1px rgba(60, 64, 67, 0.15);\n",
              "      fill: #174EA6;\n",
              "    }\n",
              "\n",
              "    .colab-df-buttons div {\n",
              "      margin-bottom: 4px;\n",
              "    }\n",
              "\n",
              "    [theme=dark] .colab-df-convert {\n",
              "      background-color: #3B4455;\n",
              "      fill: #D2E3FC;\n",
              "    }\n",
              "\n",
              "    [theme=dark] .colab-df-convert:hover {\n",
              "      background-color: #434B5C;\n",
              "      box-shadow: 0px 1px 3px 1px rgba(0, 0, 0, 0.15);\n",
              "      filter: drop-shadow(0px 1px 2px rgba(0, 0, 0, 0.3));\n",
              "      fill: #FFFFFF;\n",
              "    }\n",
              "  </style>\n",
              "\n",
              "    <script>\n",
              "      const buttonEl =\n",
              "        document.querySelector('#df-e3119132-214e-49d5-9b94-51fe16e19edf button.colab-df-convert');\n",
              "      buttonEl.style.display =\n",
              "        google.colab.kernel.accessAllowed ? 'block' : 'none';\n",
              "\n",
              "      async function convertToInteractive(key) {\n",
              "        const element = document.querySelector('#df-e3119132-214e-49d5-9b94-51fe16e19edf');\n",
              "        const dataTable =\n",
              "          await google.colab.kernel.invokeFunction('convertToInteractive',\n",
              "                                                    [key], {});\n",
              "        if (!dataTable) return;\n",
              "\n",
              "        const docLinkHtml = 'Like what you see? Visit the ' +\n",
              "          '<a target=\"_blank\" href=https://colab.research.google.com/notebooks/data_table.ipynb>data table notebook</a>'\n",
              "          + ' to learn more about interactive tables.';\n",
              "        element.innerHTML = '';\n",
              "        dataTable['output_type'] = 'display_data';\n",
              "        await google.colab.output.renderOutput(dataTable, element);\n",
              "        const docLink = document.createElement('div');\n",
              "        docLink.innerHTML = docLinkHtml;\n",
              "        element.appendChild(docLink);\n",
              "      }\n",
              "    </script>\n",
              "  </div>\n",
              "\n",
              "\n",
              "<div id=\"df-8e6783bc-705a-4473-a196-b4efaf18ec6a\">\n",
              "  <button class=\"colab-df-quickchart\" onclick=\"quickchart('df-8e6783bc-705a-4473-a196-b4efaf18ec6a')\"\n",
              "            title=\"Suggest charts.\"\n",
              "            style=\"display:none;\">\n",
              "\n",
              "<svg xmlns=\"http://www.w3.org/2000/svg\" height=\"24px\"viewBox=\"0 0 24 24\"\n",
              "     width=\"24px\">\n",
              "    <g>\n",
              "        <path d=\"M19 3H5c-1.1 0-2 .9-2 2v14c0 1.1.9 2 2 2h14c1.1 0 2-.9 2-2V5c0-1.1-.9-2-2-2zM9 17H7v-7h2v7zm4 0h-2V7h2v10zm4 0h-2v-4h2v4z\"/>\n",
              "    </g>\n",
              "</svg>\n",
              "  </button>\n",
              "\n",
              "<style>\n",
              "  .colab-df-quickchart {\n",
              "      --bg-color: #E8F0FE;\n",
              "      --fill-color: #1967D2;\n",
              "      --hover-bg-color: #E2EBFA;\n",
              "      --hover-fill-color: #174EA6;\n",
              "      --disabled-fill-color: #AAA;\n",
              "      --disabled-bg-color: #DDD;\n",
              "  }\n",
              "\n",
              "  [theme=dark] .colab-df-quickchart {\n",
              "      --bg-color: #3B4455;\n",
              "      --fill-color: #D2E3FC;\n",
              "      --hover-bg-color: #434B5C;\n",
              "      --hover-fill-color: #FFFFFF;\n",
              "      --disabled-bg-color: #3B4455;\n",
              "      --disabled-fill-color: #666;\n",
              "  }\n",
              "\n",
              "  .colab-df-quickchart {\n",
              "    background-color: var(--bg-color);\n",
              "    border: none;\n",
              "    border-radius: 50%;\n",
              "    cursor: pointer;\n",
              "    display: none;\n",
              "    fill: var(--fill-color);\n",
              "    height: 32px;\n",
              "    padding: 0;\n",
              "    width: 32px;\n",
              "  }\n",
              "\n",
              "  .colab-df-quickchart:hover {\n",
              "    background-color: var(--hover-bg-color);\n",
              "    box-shadow: 0 1px 2px rgba(60, 64, 67, 0.3), 0 1px 3px 1px rgba(60, 64, 67, 0.15);\n",
              "    fill: var(--button-hover-fill-color);\n",
              "  }\n",
              "\n",
              "  .colab-df-quickchart-complete:disabled,\n",
              "  .colab-df-quickchart-complete:disabled:hover {\n",
              "    background-color: var(--disabled-bg-color);\n",
              "    fill: var(--disabled-fill-color);\n",
              "    box-shadow: none;\n",
              "  }\n",
              "\n",
              "  .colab-df-spinner {\n",
              "    border: 2px solid var(--fill-color);\n",
              "    border-color: transparent;\n",
              "    border-bottom-color: var(--fill-color);\n",
              "    animation:\n",
              "      spin 1s steps(1) infinite;\n",
              "  }\n",
              "\n",
              "  @keyframes spin {\n",
              "    0% {\n",
              "      border-color: transparent;\n",
              "      border-bottom-color: var(--fill-color);\n",
              "      border-left-color: var(--fill-color);\n",
              "    }\n",
              "    20% {\n",
              "      border-color: transparent;\n",
              "      border-left-color: var(--fill-color);\n",
              "      border-top-color: var(--fill-color);\n",
              "    }\n",
              "    30% {\n",
              "      border-color: transparent;\n",
              "      border-left-color: var(--fill-color);\n",
              "      border-top-color: var(--fill-color);\n",
              "      border-right-color: var(--fill-color);\n",
              "    }\n",
              "    40% {\n",
              "      border-color: transparent;\n",
              "      border-right-color: var(--fill-color);\n",
              "      border-top-color: var(--fill-color);\n",
              "    }\n",
              "    60% {\n",
              "      border-color: transparent;\n",
              "      border-right-color: var(--fill-color);\n",
              "    }\n",
              "    80% {\n",
              "      border-color: transparent;\n",
              "      border-right-color: var(--fill-color);\n",
              "      border-bottom-color: var(--fill-color);\n",
              "    }\n",
              "    90% {\n",
              "      border-color: transparent;\n",
              "      border-bottom-color: var(--fill-color);\n",
              "    }\n",
              "  }\n",
              "</style>\n",
              "\n",
              "  <script>\n",
              "    async function quickchart(key) {\n",
              "      const quickchartButtonEl =\n",
              "        document.querySelector('#' + key + ' button');\n",
              "      quickchartButtonEl.disabled = true;  // To prevent multiple clicks.\n",
              "      quickchartButtonEl.classList.add('colab-df-spinner');\n",
              "      try {\n",
              "        const charts = await google.colab.kernel.invokeFunction(\n",
              "            'suggestCharts', [key], {});\n",
              "      } catch (error) {\n",
              "        console.error('Error during call to suggestCharts:', error);\n",
              "      }\n",
              "      quickchartButtonEl.classList.remove('colab-df-spinner');\n",
              "      quickchartButtonEl.classList.add('colab-df-quickchart-complete');\n",
              "    }\n",
              "    (() => {\n",
              "      let quickchartButtonEl =\n",
              "        document.querySelector('#df-8e6783bc-705a-4473-a196-b4efaf18ec6a button');\n",
              "      quickchartButtonEl.style.display =\n",
              "        google.colab.kernel.accessAllowed ? 'block' : 'none';\n",
              "    })();\n",
              "  </script>\n",
              "</div>\n",
              "    </div>\n",
              "  </div>\n"
            ]
          },
          "metadata": {},
          "execution_count": 7
        }
      ]
    },
    {
      "cell_type": "markdown",
      "source": [
        "From the sample: <br>\n",
        "The comments data is given in comments_text column with its associated unique comment id in different column. The toxicity level in the comments are categorized into 6 classes: toxic, severe_toxic, obscene, threat, insult and identity_hate.\n",
        "\n",
        "---\n",
        "\n",
        "\n"
      ],
      "metadata": {
        "id": "Re71a8LqNcIg"
      }
    },
    {
      "cell_type": "markdown",
      "source": [
        "To make the data consistent, the following text mining techniques are being used: removal of punctuations and stop-words, stemming."
      ],
      "metadata": {
        "id": "tr5wFdQ9OSPY"
      }
    },
    {
      "cell_type": "code",
      "source": [
        "#remove punctuations from the text in comments\n",
        "def punctuation(sentence):\n",
        "  # convert every letter in the sentences which is not punctuation to lower alphabets - to maintain text consistency\n",
        "    comment_text = [letters.lower() for letters in sentence if letters not in string.punctuation ]\n",
        "  # join the words after elimination of punctuations\n",
        "    comment_text = ''.join(comment_text)\n",
        "    return comment_text\n",
        "\n",
        "df_train['comment_text'] = df_train['comment_text'].apply(punctuation)\n",
        "df_train['comment_text'].head()"
      ],
      "metadata": {
        "colab": {
          "base_uri": "https://localhost:8080/"
        },
        "id": "6O7i9-WsNXVp",
        "outputId": "13139700-b87f-491d-e04f-498c56a03707"
      },
      "execution_count": 8,
      "outputs": [
        {
          "output_type": "execute_result",
          "data": {
            "text/plain": [
              "0    explanation\\nwhy the edits made under my usern...\n",
              "1    daww he matches this background colour im seem...\n",
              "2    hey man im really not trying to edit war its j...\n",
              "3    \\nmore\\ni cant make any real suggestions on im...\n",
              "4    you sir are my hero any chance you remember wh...\n",
              "Name: comment_text, dtype: object"
            ]
          },
          "metadata": {},
          "execution_count": 8
        }
      ]
    },
    {
      "cell_type": "markdown",
      "source": [
        "Result: the words in the sentences are converted to lower alphabets and all punctuations in the sentences are eliminated"
      ],
      "metadata": {
        "id": "VrG0uXh5YaH9"
      }
    },
    {
      "cell_type": "code",
      "source": [
        "#removing stopwords(insignificant words) from the comments_text\n",
        "new_stopwords = nltk.corpus.stopwords.words('english')\n",
        "\n",
        "def stopwords(sentence):\n",
        "    comment_text = [words for words in sentence.split() if words not in new_stopwords]\n",
        "    comment_text = ' '.join(comment_text)\n",
        "    return comment_text\n",
        "\n",
        "df_train['comment_text'] = df_train['comment_text'].apply(stopwords)\n",
        "df_train['comment_text'].head()"
      ],
      "metadata": {
        "colab": {
          "base_uri": "https://localhost:8080/"
        },
        "id": "dAzKp7C3Pxne",
        "outputId": "1c7dbed1-0cbd-43a2-9f42-4fb99ca97ee5"
      },
      "execution_count": 9,
      "outputs": [
        {
          "output_type": "execute_result",
          "data": {
            "text/plain": [
              "0    explanation edits made username hardcore metal...\n",
              "1    daww matches background colour im seemingly st...\n",
              "2    hey man im really trying edit war guy constant...\n",
              "3    cant make real suggestions improvement wondere...\n",
              "4                  sir hero chance remember page thats\n",
              "Name: comment_text, dtype: object"
            ]
          },
          "metadata": {},
          "execution_count": 9
        }
      ]
    },
    {
      "cell_type": "markdown",
      "source": [
        "Result: The words which are repeated and not adding any weight/value to the determination of toxicity level are removed."
      ],
      "metadata": {
        "id": "vLm64ySqb2hi"
      }
    },
    {
      "cell_type": "code",
      "source": [
        "#stemming: reducing the words to their root words\n",
        "from nltk.stem import SnowballStemmer\n",
        "\n",
        "stemmer = SnowballStemmer(language='english')\n",
        "df_train['comment_text'] = df_train['comment_text'].apply(lambda x: ' '.join([stemmer.stem(word) for word in x.split()]))\n",
        "df_train['comment_text'].head()"
      ],
      "metadata": {
        "colab": {
          "base_uri": "https://localhost:8080/"
        },
        "id": "F5nGa2fbQA1n",
        "outputId": "ea7d20ea-229f-4a71-d5c6-9712305ff28e"
      },
      "execution_count": 10,
      "outputs": [
        {
          "output_type": "execute_result",
          "data": {
            "text/plain": [
              "0    explan edit made usernam hardcor metallica fan...\n",
              "1    daww match background colour im seem stuck tha...\n",
              "2    hey man im realli tri edit war guy constant re...\n",
              "3    cant make real suggest improv wonder section s...\n",
              "4                      sir hero chanc rememb page that\n",
              "Name: comment_text, dtype: object"
            ]
          },
          "metadata": {},
          "execution_count": 10
        }
      ]
    },
    {
      "cell_type": "markdown",
      "source": [
        "Result: stemming is performed on each word in a sentence and is converted to its base word. <br>\n",
        "Note: SnowballStemmer supports other languages as well. However, since most of the text in comments is in english, the same is given as hyper-paramater for the function."
      ],
      "metadata": {
        "id": "PLsv2NvvdvhH"
      }
    },
    {
      "cell_type": "markdown",
      "source": [
        "***Exploratory Data Analysis***"
      ],
      "metadata": {
        "id": "BiK2tHnKQ0yE"
      }
    },
    {
      "cell_type": "markdown",
      "source": [],
      "metadata": {
        "id": "nomgS5FKRA80"
      }
    },
    {
      "cell_type": "code",
      "source": [
        "# comment_text - input\n",
        "# text_labels - output\n",
        "X = df_train['comment_text']\n",
        "y = df_train[['toxic', 'severe_toxic', 'obscene', 'threat', 'insult', 'identity_hate']]"
      ],
      "metadata": {
        "id": "31B_G31Khwom"
      },
      "execution_count": 11,
      "outputs": []
    },
    {
      "cell_type": "code",
      "source": [
        "# Find number of unique words in overall training data\n",
        "print(\"Number of words: \")\n",
        "print(len(np.unique(np.hstack(X))))"
      ],
      "metadata": {
        "colab": {
          "base_uri": "https://localhost:8080/"
        },
        "id": "Yn6_e60ARAZL",
        "outputId": "e876a1b7-6a3c-4643-fa4a-4f29352d321e"
      },
      "execution_count": 12,
      "outputs": [
        {
          "output_type": "stream",
          "name": "stdout",
          "text": [
            "Number of words: \n",
            "158501\n"
          ]
        }
      ]
    },
    {
      "cell_type": "markdown",
      "source": [
        "Result: Out of 159k rows(appx.) of comments, there are only 158,501 unique words"
      ],
      "metadata": {
        "id": "LbH-tFOMiM1h"
      }
    },
    {
      "cell_type": "code",
      "source": [
        "# Find avergae comment length\n",
        "print(\"Comment length: \")\n",
        "result = [len(x) for x in X]\n",
        "print(\"Mean %.2f words (%f)\" % (np.mean(result), np.std(result)))"
      ],
      "metadata": {
        "colab": {
          "base_uri": "https://localhost:8080/"
        },
        "id": "_NQV58NiQvcE",
        "outputId": "a9677115-3980-4f49-c0c4-9d3952c510b2"
      },
      "execution_count": 13,
      "outputs": [
        {
          "output_type": "stream",
          "name": "stdout",
          "text": [
            "Comment length: \n",
            "Mean 224.87 words (351.884460)\n"
          ]
        }
      ]
    },
    {
      "cell_type": "markdown",
      "source": [
        "Result: Each comment in the given training data seems to contain ~225 words in a sentence"
      ],
      "metadata": {
        "id": "_qqUrmTniddF"
      }
    },
    {
      "cell_type": "code",
      "source": [
        "# n-gram analysis: to check most repeated combination of words\n",
        "\n",
        "# Join all the comments/rows as one string\n",
        "texts = ' '.join(df_train['comment_text'])\n",
        "string = texts.split(\" \")\n",
        "\n",
        "def draw_n_gram(string,i):\n",
        "    n_gram = (pd.Series(nltk.ngrams(string, i)).value_counts())[:15]\n",
        "    n_gram_df=pd.DataFrame(n_gram)\n",
        "    n_gram_df = n_gram_df.reset_index()\n",
        "    n_gram_df = n_gram_df.rename(columns={\"index\": \"word\", 0: \"count\"})\n",
        "    print(n_gram_df.head())\n",
        "    plt.figure(figsize = (8,5))\n",
        "    return sns.barplot(x='count',y='word', data=n_gram_df,color ='darkcyan', )\n",
        "draw_n_gram(string,3) # 3 words together\n"
      ],
      "metadata": {
        "colab": {
          "base_uri": "https://localhost:8080/",
          "height": 586
        },
        "id": "JwTJc-d-T6UZ",
        "outputId": "a119f8d6-4882-467a-8264-b25842ccfda0"
      },
      "execution_count": 14,
      "outputs": [
        {
          "output_type": "stream",
          "name": "stdout",
          "text": [
            "                        word  count\n",
            "0   (nigger, nigger, nigger)   2010\n",
            "1         (fuck, fuck, fuck)   1694\n",
            "2            (hi, moron, hi)   1468\n",
            "3         (moron, hi, moron)   1466\n",
            "4  (criteria, speedi, delet)   1437\n"
          ]
        },
        {
          "output_type": "execute_result",
          "data": {
            "text/plain": [
              "<Axes: xlabel='count', ylabel='word'>"
            ]
          },
          "metadata": {},
          "execution_count": 14
        },
        {
          "output_type": "display_data",
          "data": {
            "text/plain": [
              "<Figure size 800x500 with 1 Axes>"
            ],
            "image/png": "[encoded data removed]"
          },
          "metadata": {}
        }
      ]
    },
    {
      "cell_type": "markdown",
      "source": [
        "The n-gram shows how many times the words are used together in the apprx. 159k comments"
      ],
      "metadata": {
        "id": "Yee-26Kc8Szs"
      }
    },
    {
      "cell_type": "markdown",
      "source": [
        "***Modeling***"
      ],
      "metadata": {
        "id": "gp6H1OMbVbAw"
      }
    },
    {
      "cell_type": "code",
      "source": [
        "# import libraries for neural networks\n",
        "from sklearn.model_selection import train_test_split\n",
        "from sklearn.metrics import accuracy_score, classification_report\n",
        "from tensorflow.keras.preprocessing.text import Tokenizer\n",
        "from tensorflow.keras.preprocessing.sequence import pad_sequences\n",
        "from tensorflow.keras.models import Sequential\n",
        "from tensorflow.keras.layers import Embedding, GlobalMaxPooling1D, Dense, Dropout, Flatten\n",
        "from keras.callbacks import ModelCheckpoint, EarlyStopping\n",
        "from sklearn.feature_extraction.text import CountVectorizer\n",
        "from sklearn.feature_extraction.text import TfidfVectorizer\n",
        "from sklearn.preprocessing import LabelBinarizer\n",
        "from sklearn.model_selection import cross_val_score\n",
        "!pip install scikeras\n",
        "from scikeras.wrappers import KerasClassifier\n",
        "import string\n",
        "from keras.preprocessing import text, sequence\n",
        "from keras import layers, models, optimizers\n",
        "from keras.layers import Conv1D, MaxPooling1D, Dropout, BatchNormalization"
      ],
      "metadata": {
        "id": "NU3VjIujstpy",
        "colab": {
          "base_uri": "https://localhost:8080/"
        },
        "outputId": "ddb911b0-30dc-4af1-a44b-7798fb96b8bc"
      },
      "execution_count": 15,
      "outputs": [
        {
          "output_type": "stream",
          "name": "stdout",
          "text": [
            "Collecting scikeras\n",
            "  Downloading scikeras-0.11.0-py3-none-any.whl (27 kB)\n",
            "Requirement already satisfied: packaging>=0.21 in /usr/local/lib/python3.10/dist-packages (from scikeras) (23.1)\n",
            "Requirement already satisfied: scikit-learn>=1.0.0 in /usr/local/lib/python3.10/dist-packages (from scikeras) (1.2.2)\n",
            "Requirement already satisfied: numpy>=1.17.3 in /usr/local/lib/python3.10/dist-packages (from scikit-learn>=1.0.0->scikeras) (1.23.5)\n",
            "Requirement already satisfied: scipy>=1.3.2 in /usr/local/lib/python3.10/dist-packages (from scikit-learn>=1.0.0->scikeras) (1.11.3)\n",
            "Requirement already satisfied: joblib>=1.1.1 in /usr/local/lib/python3.10/dist-packages (from scikit-learn>=1.0.0->scikeras) (1.3.2)\n",
            "Requirement already satisfied: threadpoolctl>=2.0.0 in /usr/local/lib/python3.10/dist-packages (from scikit-learn>=1.0.0->scikeras) (3.2.0)\n",
            "Installing collected packages: scikeras\n",
            "Successfully installed scikeras-0.11.0\n"
          ]
        }
      ]
    },
    {
      "cell_type": "code",
      "source": [
        "# Split the data into training and testing sets\n",
        "X_train, X_test, y_train, y_test = train_test_split(X, y, test_size=0.2, random_state=42)"
      ],
      "metadata": {
        "id": "_7cTbsWmuUMD"
      },
      "execution_count": 16,
      "outputs": []
    },
    {
      "cell_type": "code",
      "source": [
        "# CNN MODEL\n",
        "tokenizer = Tokenizer(num_words=10000)\n",
        "tokenizer.fit_on_texts(df_train.comment_text)\n",
        "embedding_dim = 50\n",
        "maxlen = 150\n",
        "\n",
        "\n",
        "accuracy_list = []\n",
        "\n",
        "# train test Split\n",
        "x_train, x_test, y_train, y_test = train_test_split(df_train['comment_text'], df_train[['toxic', 'severe_toxic', 'obscene', 'threat', 'insult', 'identity_hate']],test_size=0.2, random_state=0)\n",
        "# test validation split\n",
        "x_train, x_valid, y_train, y_valid = train_test_split(x_train, y_train,test_size=0.2, random_state=42)\n",
        "\n",
        "# tokenization of input training data\n",
        "x_train1 = tokenizer.texts_to_sequences(x_train)\n",
        "x_valid1 = tokenizer.texts_to_sequences(x_valid)\n",
        "x_test1 = tokenizer.texts_to_sequences(x_test)\n",
        "\n",
        "x_train1 = pad_sequences(x_train1, padding='post', maxlen=maxlen)\n",
        "x_valid1 = pad_sequences(x_valid1, padding='post', maxlen=maxlen)\n",
        "x_test1 = pad_sequences(x_test1, padding='post', maxlen=maxlen)\n",
        "\n",
        "vocab_size = len(tokenizer.word_index) + 1  # Adding 1 because of reserved 0 index\n",
        "embedding_vecor_length = 32\n",
        "callback = EarlyStopping(monitor='val_loss', patience=5)\n",
        "\n",
        "# create layers for CNN\n",
        "model = Sequential()\n",
        "model.add(Embedding(input_dim=vocab_size, output_dim=embedding_dim, input_length=maxlen))\n",
        "model.add(Conv1D(filters=64, kernel_size=3, padding='same', activation='relu'))\n",
        "model.add(Conv1D(filters=64, kernel_size=3, padding='same', activation='relu'))\n",
        "model.add(MaxPooling1D(pool_size=2))\n",
        "model.add(Conv1D(filters=128, kernel_size=3, padding='same', activation='relu'))\n",
        "model.add(Conv1D(filters=128, kernel_size=3, padding='same', activation='relu'))\n",
        "model.add(MaxPooling1D(pool_size=2))\n",
        "model.add(Conv1D(filters=256, kernel_size=3, padding='same', activation='relu'))\n",
        "model.add(Conv1D(filters=256, kernel_size=3, padding='same', activation='relu'))\n",
        "model.add(MaxPooling1D(pool_size=2))\n",
        "model.add(Flatten())\n",
        "model.add(Dense(256, activation='relu'))\n",
        "model.add(Dropout(0.5))\n",
        "model.add(Dense(6, activation='sigmoid'))\n",
        "\n",
        "# compile the model\n",
        "model.compile(loss='binary_crossentropy', optimizer='adam', metrics=['accuracy'])\n",
        "print(model.summary())"
      ],
      "metadata": {
        "colab": {
          "base_uri": "https://localhost:8080/"
        },
        "id": "q2lh6VGfvqHE",
        "outputId": "dd655a3c-c942-4c0f-9e04-3095d45b6f78"
      },
      "execution_count": 17,
      "outputs": [
        {
          "output_type": "stream",
          "name": "stdout",
          "text": [
            "Model: \"sequential\"\n",
            "_________________________________________________________________\n",
            " Layer (type)                Output Shape              Param #   \n",
            "=================================================================\n",
            " embedding (Embedding)       (None, 150, 50)           10678850  \n",
            "                                                                 \n",
            " conv1d (Conv1D)             (None, 150, 64)           9664      \n",
            "                                                                 \n",
            " conv1d_1 (Conv1D)           (None, 150, 64)           12352     \n",
            "                                                                 \n",
            " max_pooling1d (MaxPooling1  (None, 75, 64)            0         \n",
            " D)                                                              \n",
            "                                                                 \n",
            " conv1d_2 (Conv1D)           (None, 75, 128)           24704     \n",
            "                                                                 \n",
            " conv1d_3 (Conv1D)           (None, 75, 128)           49280     \n",
            "                                                                 \n",
            " max_pooling1d_1 (MaxPoolin  (None, 37, 128)           0         \n",
            " g1D)                                                            \n",
            "                                                                 \n",
            " conv1d_4 (Conv1D)           (None, 37, 256)           98560     \n",
            "                                                                 \n",
            " conv1d_5 (Conv1D)           (None, 37, 256)           196864    \n",
            "                                                                 \n",
            " max_pooling1d_2 (MaxPoolin  (None, 18, 256)           0         \n",
            " g1D)                                                            \n",
            "                                                                 \n",
            " flatten (Flatten)           (None, 4608)              0         \n",
            "                                                                 \n",
            " dense (Dense)               (None, 256)               1179904   \n",
            "                                                                 \n",
            " dropout (Dropout)           (None, 256)               0         \n",
            "                                                                 \n",
            " dense_1 (Dense)             (None, 6)                 1542      \n",
            "                                                                 \n",
            "=================================================================\n",
            "Total params: 12251720 (46.74 MB)\n",
            "Trainable params: 12251720 (46.74 MB)\n",
            "Non-trainable params: 0 (0.00 Byte)\n",
            "_________________________________________________________________\n",
            "None\n"
          ]
        }
      ]
    },
    {
      "cell_type": "markdown",
      "source": [
        "By fine-tuning the CNN layers and hyper-parameters of the model, the model performance and accuracy to classify and predict the probability of each label can be improved."
      ],
      "metadata": {
        "id": "7BrKm-DQ87Ub"
      }
    },
    {
      "cell_type": "code",
      "source": [
        "# Train the CNN model\n",
        "model.fit(x_train1, y_train, epochs=10, batch_size=256,verbose = 1,validation_data=(x_valid1,y_valid),callbacks=[callback])"
      ],
      "metadata": {
        "colab": {
          "base_uri": "https://localhost:8080/"
        },
        "id": "uYFtYnNtxKpc",
        "outputId": "056d1ba1-5030-4cfb-f9cb-217a8bda5834"
      },
      "execution_count": 18,
      "outputs": [
        {
          "output_type": "stream",
          "name": "stdout",
          "text": [
            "Epoch 1/10\n",
            "399/399 [==============================] - 332s 828ms/step - loss: 0.0905 - accuracy: 0.8000 - val_loss: 0.0520 - val_accuracy: 0.9959\n",
            "Epoch 2/10\n",
            "399/399 [==============================] - 314s 786ms/step - loss: 0.0493 - accuracy: 0.9492 - val_loss: 0.0509 - val_accuracy: 0.9959\n",
            "Epoch 3/10\n",
            "399/399 [==============================] - 319s 799ms/step - loss: 0.0436 - accuracy: 0.9726 - val_loss: 0.0553 - val_accuracy: 0.9959\n",
            "Epoch 4/10\n",
            "399/399 [==============================] - 320s 803ms/step - loss: 0.0381 - accuracy: 0.9647 - val_loss: 0.0562 - val_accuracy: 0.9956\n",
            "Epoch 5/10\n",
            "399/399 [==============================] - 315s 790ms/step - loss: 0.0340 - accuracy: 0.9449 - val_loss: 0.0641 - val_accuracy: 0.9956\n",
            "Epoch 6/10\n",
            "399/399 [==============================] - 311s 779ms/step - loss: 0.0313 - accuracy: 0.8623 - val_loss: 0.0703 - val_accuracy: 0.9949\n",
            "Epoch 7/10\n",
            "399/399 [==============================] - 314s 787ms/step - loss: 0.0284 - accuracy: 0.7227 - val_loss: 0.0844 - val_accuracy: 0.8192\n"
          ]
        },
        {
          "output_type": "execute_result",
          "data": {
            "text/plain": [
              "<keras.src.callbacks.History at 0x7a7c2ceb4940>"
            ]
          },
          "metadata": {},
          "execution_count": 18
        }
      ]
    },
    {
      "cell_type": "markdown",
      "source": [
        "From the metric values of each epoch, it is observed that the training of the model is not consistent and should be improved."
      ],
      "metadata": {
        "id": "wmEHrDRE9ZdZ"
      }
    },
    {
      "cell_type": "code",
      "source": [
        "# Binary prediction\n",
        "\n",
        "predicted_labels = model.predict(x_test1)\n",
        "# Convert probabilities to binary predictions\n",
        "binary_predictions = (predicted_labels > 0.5).astype(int)\n",
        "\n",
        "accuracy = accuracy_score(y_test, binary_predictions)\n",
        "accuracy_list.append(accuracy)\n",
        "print(f'Accuracy: {accuracy}')\n"
      ],
      "metadata": {
        "colab": {
          "base_uri": "https://localhost:8080/"
        },
        "id": "O56TGI1FCVWh",
        "outputId": "5a305035-1151-40d0-a8a4-4f11aa21b142"
      },
      "execution_count": 19,
      "outputs": [
        {
          "output_type": "stream",
          "name": "stdout",
          "text": [
            "998/998 [==============================] - 24s 24ms/step\n",
            "Accuracy: 0.9122669591101363\n"
          ]
        }
      ]
    },
    {
      "cell_type": "markdown",
      "source": [
        "Although CNN is a good choice for the application in text classification, the required knowledge of fine-tuning the hyper-parameters and CNN layers is important to develop a model with better accuracy and prediction performance."
      ],
      "metadata": {
        "id": "xEz9uTGP96aH"
      }
    }
  ]
}